{
 "cells": [
  {
   "cell_type": "code",
   "execution_count": null,
   "id": "21ca25d9",
   "metadata": {},
   "outputs": [],
   "source": [
    "import redis\n",
    "import json\n",
    "\n",
    "# Define connection variables\n",
    "host = 'localhost'\n",
    "port =  6379\n",
    "password = 'mypassword'\n",
    "\n",
    "# Connect to Redis\n",
    "r = redis.Redis(host=host, port=port, password=password, decode_responses=True)\n",
    "print('Connected to Redis')\n",
    "\n",
    "r.flushdb()"
   ]
  },
  {
   "cell_type": "markdown",
   "id": "use-case-title",
   "metadata": {},
   "source": [
    "# Tracking the Most Frequently Returned Products\n",
    "\n",
    "## Description of the use case\n",
    "This use case involves tracking which products are returned most frequently to identify potential issues with product quality or customer satisfaction. By monitoring return patterns, businesses can take corrective actions to improve their offerings.\n",
    "\n",
    "## Redis Data Structures Used\n",
    "- **Count-Min Sketch**: To track the frequency of product returns.\n",
    "- **Hashes**: To store return information for each product.\n",
    "- **Sorted Sets**: To rank products based on their return frequency."
   ]
  },
  {
   "cell_type": "code",
   "execution_count": null,
   "id": "demonstrate-use-case",
   "metadata": {},
   "outputs": [],
   "source": [
    "\n",
    "# Mock data for the use case\n",
    "mock_data = {\n",
    "    'return_1001': {'product_id': 'product_1', 'reason': 'defective'},\n",
    "    'return_1002': {'product_id': 'product_2', 'reason': 'not as described'},\n",
    "    'return_1003': {'product_id': 'product_1', 'reason': 'defective'},\n",
    "    'return_1004': {'product_id': 'product_3', 'reason': 'changed mind'},\n",
    "    'return_1005': {'product_id': 'product_2', 'reason': 'not as described'},\n",
    "    'return_1006': {'product_id': 'product_1', 'reason': 'defective'},\n",
    "}\n",
    "\n",
    "\n",
    "sketch = r.cms().initbyprob('return_sketch', 0.001, 0.002) # https://redis.io/docs/latest/develop/data-types/probabilistic/count-min-sketch/\n",
    "\n",
    "# Use Hashes to store return information\n",
    "for return_id, return_info in mock_data.items():\n",
    "    r.hset(return_id, mapping=return_info)\n",
    "\n",
    "# Use Count-Min Sketch to track return frequency\n",
    "for return_info in mock_data.values():\n",
    "    product_id = return_info['product_id']\n",
    "    r.cms().incrby('return_sketch', [product_id], [1])\n",
    "\n",
    "unique_products = list(set([mock_data[x]['product_id'] for x in mock_data.keys()]))\n",
    "\n",
    "for x in unique_products:\n",
    "    return_fq = r.cms().query('return_sketch',x)[0]\n",
    "    print(f\"Return frequency for {x}: {return_fq}\")\n",
    "    # Update a sorted set \n",
    "    r.zadd('return_frequency', {x:return_fq})\n",
    "\n",
    "print(\"Most returned product:\")\n",
    "print(f\"{r.zrevrange('return_frequency',0,0,withscores=True)[0]}\")"
   ]
  }
 ],
 "metadata": {
  "kernelspec": {
   "display_name": "Python 3",
   "language": "python",
   "name": "python3"
  },
  "language_info": {
   "codemirror_mode": {
    "name": "ipython",
    "version": 3
   },
   "file_extension": ".py",
   "mimetype": "text/x-python",
   "name": "python",
   "nbconvert_exporter": "python",
   "pygments_lexer": "ipython3",
   "version": "3.12.3"
  }
 },
 "nbformat": 4,
 "nbformat_minor": 5
}
