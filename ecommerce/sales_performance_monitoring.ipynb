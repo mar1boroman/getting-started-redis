{
 "cells": [
  {
   "cell_type": "code",
   "execution_count": null,
   "id": "243abb3b",
   "metadata": {},
   "outputs": [],
   "source": [
    "import redis\n",
    "import json\n",
    "\n",
    "# Define connection variables\n",
    "host = 'redis-13857.c14.us-east-1-2.ec2.redns.redis-cloud.com'\n",
    "port = 13857\n",
    "password = 'okNaqK7r5dKE6stSis0FlUuiDlhH2t7M'\n",
    "\n",
    "# Connect to Redis\n",
    "r = redis.Redis(host=host, port=port, password=password, decode_responses=True)\n",
    "print('Connected to Redis')\n",
    "\n",
    "r.flushdb()"
   ]
  },
  {
   "cell_type": "markdown",
   "id": "use-case-title",
   "metadata": {},
   "source": [
    "# Sales Performance Monitoring\n",
    "\n",
    "## Description of the use case\n",
    "This use case involves monitoring sales performance in real-time to track key metrics such as revenue, units sold, and average order value. By using real-time data, businesses can make informed decisions and quickly respond to market changes.\n",
    "\n",
    "## Redis Data Structures Used\n",
    "- **Hashes**: To store sales data for each product.\n",
    "- **Streams**: To capture and process real-time sales transactions.\n",
    "- **Sorted Sets**: To rank products based on sales performance.\n"
   ]
  },
  {
   "cell_type": "code",
   "execution_count": null,
   "id": "demonstrate-use-case",
   "metadata": {},
   "outputs": [],
   "source": [
    "# Mock data for the use case\n",
    "sales_data = {\n",
    "    'product_1001': {'name': 'Product A', 'revenue': 5000, 'units_sold': 100},\n",
    "    'product_1002': {'name': 'Product B', 'revenue': 7500, 'units_sold': 150},\n",
    "    'product_1003': {'name': 'Product C', 'revenue': 3000, 'units_sold': 60},\n",
    "    'product_1004': {'name': 'Product D', 'revenue': 2000, 'units_sold': 900}\n",
    "}\n",
    "\n",
    "# Use Hashes to store sales data for each product\n",
    "for product_id, data in sales_data.items():\n",
    "    r.hset(product_id, mapping=data)\n",
    "    r.zadd('sales_performance', {product_id: data['revenue']})\n",
    "\n",
    "# Use Streams to capture real-time sales transactions\n",
    "r.xadd('sales_transactions', {'order_id': 'product_1001', 'revenue': 100, 'units_sold': 2})\n",
    "r.xadd('sales_transactions', {'order_id': 'product_1002', 'revenue': 150, 'units_sold': 3})\n",
    "r.xadd('sales_transactions', {'order_id': 'product_1003', 'revenue': 500, 'units_sold': 2})\n",
    "r.xadd('sales_transactions', {'order_id': 'product_1004', 'revenue': 4, 'units_sold': 3})\n",
    "\n",
    "# Function to process sales transactions and update performance metrics\n",
    "def process_sales_transactions():\n",
    "    stream_entries = r.xrange('sales_transactions')\n",
    "    for entry in stream_entries:\n",
    "        product_id = entry[1]['order_id']\n",
    "        revenue = int(entry[1]['revenue'])\n",
    "        units_sold = int(entry[1]['units_sold'])\n",
    "        r.hincrby(product_id, 'revenue', revenue)\n",
    "        r.hincrby(product_id, 'units_sold', units_sold)\n",
    "        avg_order_value = int(r.hget(product_id, 'revenue')) / int(r.hget(product_id, 'units_sold'))\n",
    "        r.hset(product_id, 'avg_order_value', round(avg_order_value,2))\n",
    "        r.zincrby('sales_performance', revenue, product_id)\n",
    "\n",
    "# Process the sales transactions\n",
    "process_sales_transactions()\n",
    "\n",
    "# Print the updated sales data\n",
    "for product_id in sales_data.keys():\n",
    "    print(f\"{product_id}: {r.hgetall(product_id)}\")\n",
    "\n",
    "# Print the sales performance ranking\n",
    "sales_performance = r.zrange('sales_performance', 0, -1, withscores=True, desc=True)\n",
    "print('Sales Performance Ranking:')\n",
    "for product in sales_performance:\n",
    "    print(product)\n"
   ]
  }
 ],
 "metadata": {
  "kernelspec": {
   "display_name": "Python 3",
   "language": "python",
   "name": "python3"
  },
  "language_info": {
   "codemirror_mode": {
    "name": "ipython",
    "version": 3
   },
   "file_extension": ".py",
   "mimetype": "text/x-python",
   "name": "python",
   "nbconvert_exporter": "python",
   "pygments_lexer": "ipython3",
   "version": "3.12.3"
  }
 },
 "nbformat": 4,
 "nbformat_minor": 5
}
