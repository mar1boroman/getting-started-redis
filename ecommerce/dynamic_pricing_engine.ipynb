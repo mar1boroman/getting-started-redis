{
 "cells": [
  {
   "cell_type": "code",
   "execution_count": null,
   "id": "959c5f78",
   "metadata": {},
   "outputs": [],
   "source": [
    "import redis\n",
    "import json\n",
    "\n",
    "# Define connection variables\n",
    "host = 'localhost'\n",
    "port =  6379\n",
    "password = 'mypassword'\n",
    "\n",
    "# Connect to Redis\n",
    "r = redis.Redis(host=host, port=port, password=password, decode_responses=True)\n",
    "print('Connected to Redis')\n",
    "\n",
    "r.flushdb()"
   ]
  },
  {
   "cell_type": "markdown",
   "id": "use-case-title",
   "metadata": {},
   "source": [
    "# Dynamic Pricing Engine\n",
    "\n",
    "## Description of the use case\n",
    "A dynamic pricing engine adjusts the prices of products in real-time based on various factors like demand, competition, and inventory levels. This use case ensures that pricing strategies are optimized to maximize revenue and profitability.\n",
    "\n",
    "## Redis Data Structures Used\n",
    "- **Sorted Sets**: To manage and query price changes and demand metrics.\n",
    "- **Hashes**: To store product pricing information and other related attributes."
   ]
  },
  {
   "cell_type": "code",
   "execution_count": null,
   "id": "demonstrate-use-case",
   "metadata": {},
   "outputs": [],
   "source": [
    "import random\n",
    "\n",
    "# Mock data for the use case\n",
    "mock_data = {\n",
    "    'product_1': {'name': 'Product 1', 'price': 100},\n",
    "    'product_2': {'name': 'Product 2', 'price': 150},\n",
    "    'product_3': {'name': 'Product 3', 'price': 200},\n",
    "}\n",
    "\n",
    "# Use Hashes to store product pricing information\n",
    "for product_id, product_info in mock_data.items():\n",
    "    r.hset(product_id, mapping=product_info)\n",
    "    print(f\"Old Product Info : {product_id} : {product_info}\")\n",
    "\n",
    "# Use Sorted Sets to manage price changes and demand metrics\n",
    "for product_id, product_info in mock_data.items():\n",
    "    r.zadd('product_prices', {product_id: product_info['price']})\n",
    "    r.zadd('product_demand', {product_id: random.randint(10,100)}) # Random demand\n",
    "\n",
    "# Dynamic pricing algorithm\n",
    "def dynamic_pricing_engine(product_id, base_price):\n",
    "    demand = int(r.zscore('product_demand', product_id))\n",
    "    new_price = base_price + (demand * 0.1)  # Example algorithm: price increases by 10% of demand\n",
    "    r.hset(product_id, 'price', new_price)\n",
    "    r.zadd('product_prices', {product_id: new_price})\n",
    "    return new_price\n",
    "\n",
    "# Update prices for all products\n",
    "for product_id in mock_data.keys():\n",
    "    base_price = int(r.hget(product_id, 'price'))\n",
    "    new_price = dynamic_pricing_engine(product_id, base_price)\n",
    "    print(f\"Updated price for {product_id}: {new_price}\")\n",
    "\n",
    "# Print the updated pricing information\n",
    "for product_id in mock_data.keys():\n",
    "    print(f\"New Product Info :{product_id}: {r.hgetall(product_id)}\")\n"
   ]
  },
  {
   "cell_type": "code",
   "execution_count": null,
   "id": "9549352e",
   "metadata": {},
   "outputs": [],
   "source": [
    "r.zrange('product_prices',0,-1, withscores=True)"
   ]
  },
  {
   "cell_type": "code",
   "execution_count": null,
   "id": "2348bcc4",
   "metadata": {},
   "outputs": [],
   "source": [
    "r.zrange('product_demand', 0, -1, withscores=True)"
   ]
  },
  {
   "cell_type": "code",
   "execution_count": null,
   "id": "2eb5dca0",
   "metadata": {},
   "outputs": [],
   "source": [
    "for item in r.scan_iter(\"product*\", _type='HASH'):\n",
    "    print(r.hgetall(item))"
   ]
  }
 ],
 "metadata": {
  "kernelspec": {
   "display_name": "Python 3",
   "language": "python",
   "name": "python3"
  },
  "language_info": {
   "codemirror_mode": {
    "name": "ipython",
    "version": 3
   },
   "file_extension": ".py",
   "mimetype": "text/x-python",
   "name": "python",
   "nbconvert_exporter": "python",
   "pygments_lexer": "ipython3",
   "version": "3.12.3"
  }
 },
 "nbformat": 4,
 "nbformat_minor": 5
}
