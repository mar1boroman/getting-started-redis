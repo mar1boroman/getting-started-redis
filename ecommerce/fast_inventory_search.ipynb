{
 "cells": [
  {
   "cell_type": "markdown",
   "id": "use-case-title",
   "metadata": {},
   "source": [
    "# Fast and Efficient Search Capabilities\n",
    "\n",
    "## Description of the use case\n",
    "This use case demonstrates how to provide fast and efficient search capabilities within an e-commerce platform. The aim is to deliver quick and relevant search results to users, enhancing their shopping experience.\n",
    "\n",
    "## Redis Data Structures Used\n",
    "- **Search and Query**: To index and query product data efficiently.\n",
    "- **Hashes**: To store detailed product information."
   ]
  },
  {
   "cell_type": "code",
   "execution_count": 1,
   "metadata": {},
   "outputs": [
    {
     "name": "stdout",
     "output_type": "stream",
     "text": [
      "Connected to Redis\n"
     ]
    }
   ],
   "source": [
    "import redis\n",
    "import json\n",
    "\n",
    "# Define connection variables\n",
    "host = 'redis-13857.c14.us-east-1-2.ec2.redns.redis-cloud.com'\n",
    "port = 13857\n",
    "password = 'okNaqK7r5dKE6stSis0FlUuiDlhH2t7M'\n",
    "\n",
    "# Connect to Redis\n",
    "r = redis.Redis(host=host, port=port, password=password, decode_responses=True)\n",
    "print('Connected to Redis')\n"
   ]
  },
  {
   "cell_type": "code",
   "execution_count": 2,
   "metadata": {},
   "outputs": [
    {
     "data": {
      "text/plain": [
       "'OK'"
      ]
     },
     "execution_count": 2,
     "metadata": {},
     "output_type": "execute_result"
    }
   ],
   "source": [
    "# Drop index\n",
    "r.ft('productIdx').dropindex()"
   ]
  },
  {
   "cell_type": "code",
   "execution_count": 3,
   "id": "demonstrate-use-case",
   "metadata": {},
   "outputs": [
    {
     "name": "stdout",
     "output_type": "stream",
     "text": [
      "Search results for query \"books\":\n",
      "product:product_2\n",
      "['id', 'product_2', 'name', 'Learn Python Programming', 'category', 'books', 'price', '25']\n"
     ]
    }
   ],
   "source": [
    "\n",
    "\n",
    "# Mock data for the use case\n",
    "mock_data = [\n",
    "    {'id': 'product_1', 'name': 'Smartphone XYZ', 'category': 'electronics', 'price': 299},\n",
    "    {'id': 'product_2', 'name': 'Learn Python Programming', 'category': 'books', 'price': 25},\n",
    "    {'id': 'product_3', 'name': 'Trendy T-shirt', 'category': 'fashion', 'price': 15},\n",
    "    {'id': 'product_4', 'name': 'Luxury Perfume', 'category': 'beauty', 'price': 85},\n",
    "    {'id': 'product_5', 'name': 'Gaming Laptop', 'category': 'electronics', 'price': 999}\n",
    "]\n",
    "\n",
    "# Index product data in Redis\n",
    "for product in mock_data:\n",
    "    r.hset(f\"product:{product['id']}\", mapping=product)\n",
    "\n",
    "# Define the search index\n",
    "r.execute_command('FT.CREATE', 'productIdx', 'ON', 'HASH', 'PREFIX', '1', 'product:', 'SCHEMA', 'name', 'TEXT', 'category', 'TEXT', 'price', 'NUMERIC')\n",
    "\n",
    "# Function to perform search\n",
    "def search_products(query):\n",
    "    return r.execute_command('FT.SEARCH', 'productIdx', query)\n",
    "\n",
    "# Example search query\n",
    "query = 'books'\n",
    "search_results = search_products(query)\n",
    "print(f'Search results for query \"{query}\":')\n",
    "for result in search_results[1:]:\n",
    "    product_id = result\n",
    "    print(product_id)\n"
   ]
  },
  {
   "cell_type": "markdown",
   "metadata": {},
   "source": [
    "## How do you find electronics with price < 500 ?"
   ]
  }
 ],
 "metadata": {
  "kernelspec": {
   "display_name": "venv",
   "language": "python",
   "name": "python3"
  },
  "language_info": {
   "codemirror_mode": {
    "name": "ipython",
    "version": 3
   },
   "file_extension": ".py",
   "mimetype": "text/x-python",
   "name": "python",
   "nbconvert_exporter": "python",
   "pygments_lexer": "ipython3",
   "version": "3.12.3"
  }
 },
 "nbformat": 4,
 "nbformat_minor": 2
}
