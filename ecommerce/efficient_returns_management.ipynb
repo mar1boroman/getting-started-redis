{
 "cells": [
  {
   "cell_type": "code",
   "execution_count": null,
   "id": "986d9bdb",
   "metadata": {},
   "outputs": [],
   "source": [
    "import redis\n",
    "import json\n",
    "\n",
    "# Define connection variables\n",
    "host = 'redis-13857.c14.us-east-1-2.ec2.redns.redis-cloud.com'\n",
    "port = 13857\n",
    "password = 'okNaqK7r5dKE6stSis0FlUuiDlhH2t7M'\n",
    "\n",
    "# Connect to Redis\n",
    "r = redis.Redis(host=host, port=port, password=password, decode_responses=True)\n",
    "print('Connected to Redis')\n",
    "\n",
    "r.flushdb()"
   ]
  },
  {
   "cell_type": "markdown",
   "id": "use-case-title",
   "metadata": {},
   "source": [
    "# Efficient Returns Management\n",
    "\n",
    "## Description of the use case\n",
    "This use case involves managing product returns efficiently by tracking the status of returns, reasons for returns, and processing refunds or exchanges. It ensures a smooth returns process for customers, improving their overall satisfaction.\n",
    "\n",
    "## Redis Data Structures Used\n",
    "- **Hashes**: To store return information and statuses.\n",
    "- **Streams**: To capture and process real-time return updates.\n",
    "- **Sorted Sets**: To prioritize and manage returns based on urgency or value."
   ]
  },
  {
   "cell_type": "code",
   "execution_count": null,
   "id": "demonstrate-use-case",
   "metadata": {},
   "outputs": [],
   "source": [
    "# Mock data for the use case\n",
    "mock_data = {\n",
    "    'return_1001': {'order_id': 'order_1001', 'customer_id': 'cust_1', 'status': 'initiated', 'reason': 'defective item'},\n",
    "    'return_1002': {'order_id': 'order_1002', 'customer_id': 'cust_2', 'status': 'received', 'reason': 'wrong item'},\n",
    "    'return_1003': {'order_id': 'order_1003', 'customer_id': 'cust_3', 'status': 'processed', 'reason': 'changed mind'},\n",
    "}\n",
    "# Use Hashes to store return information and statuses\n",
    "for return_id, return_info in mock_data.items():\n",
    "    r.hset(return_id, mapping=return_info)\n",
    "    \n",
    "    \n",
    "# Print the updated return information\n",
    "def display_data(mock_data):\n",
    "    for return_id in mock_data.keys():\n",
    "        print(f\"{return_id}: {r.hgetall(return_id)}\")\n",
    "        \n",
    "print(\"Data before returns processing\")\n",
    "display_data(mock_data=mock_data)\n",
    "\n",
    "\n",
    "# Use Streams to capture real-time return updates\n",
    "r.xadd('return_updates', {'return_id': 'return_1001', 'status': 'received'})\n",
    "r.xadd('return_updates', {'return_id': 'return_1002', 'status': 'processed'})\n",
    "\n",
    "# Function to process return updates\n",
    "def process_return_updates():\n",
    "    stream_entries = r.xrange('return_updates')\n",
    "    for entry in stream_entries:\n",
    "        return_id = entry[1]['return_id']\n",
    "        new_status = entry[1]['status']\n",
    "        r.hset(return_id, 'status', new_status)\n",
    "\n",
    "# Process the return updates\n",
    "process_return_updates()\n",
    "\n",
    "# Use Sorted Sets to prioritize and manage returns based on urgency\n",
    "for return_id in mock_data.keys():\n",
    "    status = r.hget(return_id, 'status')\n",
    "    priority = 1 if status == 'initiated' else 2 if status == 'received' else 3  # Example priority\n",
    "    r.zadd('return_priority', {return_id: priority})\n",
    "\n",
    "print(\"Data after returns processing\")\n",
    "display_data(mock_data=mock_data)\n",
    "\n",
    "# Print the prioritized returns\n",
    "prioritized_returns = r.zrange('return_priority', 0, -1, withscores=True)\n",
    "print('Prioritized Returns:')\n",
    "for return_id, priority in prioritized_returns:\n",
    "    print(f\"Return order {return_id} has the priority of {priority}\")"
   ]
  }
 ],
 "metadata": {
  "kernelspec": {
   "display_name": "Python 3",
   "language": "python",
   "name": "python3"
  },
  "language_info": {
   "codemirror_mode": {
    "name": "ipython",
    "version": 3
   },
   "file_extension": ".py",
   "mimetype": "text/x-python",
   "name": "python",
   "nbconvert_exporter": "python",
   "pygments_lexer": "ipython3",
   "version": "3.12.3"
  }
 },
 "nbformat": 4,
 "nbformat_minor": 5
}
