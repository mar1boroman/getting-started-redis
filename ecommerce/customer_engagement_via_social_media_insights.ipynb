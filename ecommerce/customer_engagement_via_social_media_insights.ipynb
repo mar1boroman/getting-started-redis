{
 "cells": [
  {
   "cell_type": "code",
   "execution_count": null,
   "id": "d8635ae8",
   "metadata": {},
   "outputs": [],
   "source": [
    "import redis\n",
    "import json\n",
    "\n",
    "# Define connection variables\n",
    "host = 'redis-13857.c14.us-east-1-2.ec2.redns.redis-cloud.com'\n",
    "port = 13857\n",
    "password = 'okNaqK7r5dKE6stSis0FlUuiDlhH2t7M'\n",
    "\n",
    "# Connect to Redis\n",
    "r = redis.Redis(host=host, port=port, password=password, decode_responses=True)\n",
    "print('Connected to Redis')\n"
   ]
  },
  {
   "cell_type": "markdown",
   "id": "use-case-title",
   "metadata": {},
   "source": [
    "# Customer Engagement via Social Media Insights\n",
    "\n",
    "## Description of the use case\n",
    "This use case involves analyzing social media data to gain insights into customer preferences and engagement. By leveraging these insights, businesses can tailor their marketing strategies and improve customer interactions.\n",
    "\n",
    "## Redis Data Structures Used\n",
    "- **Hashes**: To store user profiles and social media interaction data.\n",
    "- **Streams**: To capture and process real-time social media data.\n",
    "- **Sorted Sets**: To rank and prioritize social media posts and interactions."
   ]
  },
  {
   "cell_type": "code",
   "execution_count": null,
   "id": "demonstrate-use-case",
   "metadata": {},
   "outputs": [],
   "source": [
    "# Mock data for the use case\n",
    "mock_data = {\n",
    "    'user:1001': {'name': 'Alice', 'likes': 10, 'shares': 5, 'comments': 2},\n",
    "    'user:1002': {'name': 'Bob', 'likes': 15, 'shares': 3, 'comments': 4},\n",
    "    'user:1003': {'name': 'Charlie', 'likes': 5, 'shares': 2, 'comments': 1},\n",
    "    'post:2001': {'content': 'Great product!', 'likes': 10, 'shares': 5},\n",
    "    'post:2002': {'content': 'Highly recommend this!', 'likes': 15, 'shares': 3},\n",
    "    'post:2003': {'content': 'Good value for money.', 'likes': 5, 'shares': 2}\n",
    "}\n",
    "\n",
    "# Use Hashes to store user profiles and social media interaction data\n",
    "for key, value in mock_data.items():\n",
    "    r.hset(key, mapping=value)\n",
    "\n",
    "# Use Streams to capture real-time social media data\n",
    "r.xadd('social_media_stream', {'user_id': 'user:1001', 'post_id': 'post:2001', 'action': 'like'})\n",
    "r.xadd('social_media_stream', {'user_id': 'user:1002', 'post_id': 'post:2002', 'action': 'share'})\n",
    "\n",
    "# Process stream data to update engagement metrics\n",
    "stream_entries = r.xrange('social_media_stream')\n",
    "for entry in stream_entries:\n",
    "    user_id = entry[1]['user_id']\n",
    "    post_id = entry[1]['post_id']\n",
    "    action = entry[1]['action']\n",
    "    if action == 'like':\n",
    "        r.hincrby(user_id, 'likes', 1)\n",
    "        r.hincrby(post_id, 'likes', 1)\n",
    "    elif action == 'share':\n",
    "        r.hincrby(user_id, 'shares', 1)\n",
    "        r.hincrby(post_id, 'shares', 1)\n",
    "\n",
    "# Use Sorted Sets to rank and prioritize social media posts\n",
    "for post_id in ['post:2001', 'post:2002', 'post:2003']:\n",
    "    likes = int(r.hget(post_id, 'likes'))\n",
    "    shares = int(r.hget(post_id, 'shares'))\n",
    "    score = likes + (shares * 2)  # Example scoring algorithm\n",
    "    r.zadd('post_ranking', {post_id: score})\n",
    "\n",
    "# Print the updated user profiles and post engagements\n",
    "for user_id in ['user:1001', 'user:1002', 'user:1003']:\n",
    "    print(f\"{user_id}: {r.hgetall(user_id)}\")\n",
    "\n",
    "for post_id in ['post:2001', 'post:2002', 'post:2003']:\n",
    "    print(f\"{post_id}: {r.hgetall(post_id)}\")\n",
    "\n",
    "# Print the ranked social media posts\n",
    "ranked_posts = r.zrange('post_ranking', 0, -1, withscores=True, desc=True)\n",
    "print('Ranked Social Media Posts:')\n",
    "for post in ranked_posts:\n",
    "    print(post)"
   ]
  }
 ],
 "metadata": {
  "kernelspec": {
   "display_name": "Python 3",
   "language": "python",
   "name": "python3"
  },
  "language_info": {
   "codemirror_mode": {
    "name": "ipython",
    "version": 3
   },
   "file_extension": ".py",
   "mimetype": "text/x-python",
   "name": "python",
   "nbconvert_exporter": "python",
   "pygments_lexer": "ipython3",
   "version": "3.12.3"
  }
 },
 "nbformat": 4,
 "nbformat_minor": 5
}
