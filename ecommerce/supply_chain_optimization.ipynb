{
 "cells": [
  {
   "cell_type": "code",
   "execution_count": null,
   "id": "491a0f17",
   "metadata": {},
   "outputs": [],
   "source": [
    "import redis\n",
    "import json\n",
    "\n",
    "# Define connection variables\n",
    "host = 'localhost'\n",
    "port =  6379\n",
    "password = 'mypassword'\n",
    "\n",
    "# Connect to Redis\n",
    "r = redis.Redis(host=host, port=port, password=password, decode_responses=True)\n",
    "print('Connected to Redis')\n",
    "\n",
    "r.flushdb()"
   ]
  },
  {
   "cell_type": "markdown",
   "id": "use-case-title",
   "metadata": {},
   "source": [
    "# Supply Chain Optimization\n",
    "\n",
    "## Description of the use case\n",
    "This use case involves optimizing delivery routes in the supply chain to reduce costs and improve efficiency. By using geospatial data, businesses can determine the most efficient routes for delivery vehicles.\n",
    "\n",
    "## Redis Data Structures Used\n",
    "- **GeoSpatial**: To store and query location data of delivery points and vehicles.\n",
    "- **Hashes**: To store additional information about delivery points and vehicles.\n"
   ]
  },
  {
   "cell_type": "code",
   "execution_count": null,
   "id": "demonstrate-use-case",
   "metadata": {},
   "outputs": [],
   "source": [
    "# Mock data for the use case\n",
    "delivery_points = {\n",
    "    'dp_1': {'name': 'Warehouse A', 'longitude': -73.935242, 'latitude': 40.730610},\n",
    "    'dp_2': {'name': 'Customer B', 'longitude': -74.0060, 'latitude': 40.7128},\n",
    "    'dp_3': {'name': 'Customer C', 'longitude': -73.935242, 'latitude': 40.730610},\n",
    "    'dp_4': {'name': 'Customer D', 'longitude': -73.9911, 'latitude': 40.7305}\n",
    "}\n",
    "\n",
    "# Use GeoSpatial to store location data\n",
    "for dp_id, dp_info in delivery_points.items():\n",
    "    r.geoadd('delivery_points', (dp_info['longitude'], dp_info['latitude'], dp_id))\n",
    "    r.hset(dp_id, mapping={'name': dp_info['name'], 'longitude': dp_info['longitude'], 'latitude': dp_info['latitude']})\n",
    "\n",
    "# Function to find the nearest delivery points\n",
    "def find_nearest_delivery_points(longitude, latitude, radius_km):\n",
    "    return r.georadius('delivery_points', longitude, latitude, radius_km, unit='km', withdist=True, sort='ASC')\n",
    "\n",
    "# Example: Find delivery points within 2 km of a given location\n",
    "nearest_points = find_nearest_delivery_points(-73.935242, 40.730610, 2)\n",
    "print('Nearest Delivery Points:')\n",
    "for point in nearest_points:\n",
    "    location, distance = point\n",
    "    print(f\"The delivery point {location} is {distance} km away\")\n",
    "\n",
    "# Print the delivery points information\n",
    "for dp_id in delivery_points.keys():\n",
    "    print(f\"{dp_id}: {r.hgetall(dp_id)}\")\n"
   ]
  }
 ],
 "metadata": {
  "kernelspec": {
   "display_name": "Python 3",
   "language": "python",
   "name": "python3"
  },
  "language_info": {
   "codemirror_mode": {
    "name": "ipython",
    "version": 3
   },
   "file_extension": ".py",
   "mimetype": "text/x-python",
   "name": "python",
   "nbconvert_exporter": "python",
   "pygments_lexer": "ipython3",
   "version": "3.12.3"
  }
 },
 "nbformat": 4,
 "nbformat_minor": 5
}
