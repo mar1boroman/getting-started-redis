{
 "cells": [
  {
   "cell_type": "code",
   "execution_count": null,
   "id": "37408a60",
   "metadata": {},
   "outputs": [],
   "source": [
    "import redis\n",
    "import json\n",
    "\n",
    "# Define connection variables\n",
    "host = 'localhost'\n",
    "port =  6379\n",
    "password = 'mypassword'\n",
    "\n",
    "# Connect to Redis\n",
    "r = redis.Redis(host=host, port=port, password=password, decode_responses=True)\n",
    "print('Connected to Redis')\n",
    "\n",
    "r.flushdb()"
   ]
  },
  {
   "cell_type": "markdown",
   "id": "use-case-title",
   "metadata": {},
   "source": [
    "# Process Automation for Order Fulfillment\n",
    "\n",
    "## Description of the use case\n",
    "This use case involves automating order fulfillment processes using Redis Lua Scripts. By automating these processes, businesses can ensure timely and accurate order processing, improving efficiency and customer satisfaction.\n",
    "\n",
    "## Redis Data Structures Used\n",
    "- **Hashes**: To store order and inventory information.\n",
    "- **Lua Scripts**: To automate order fulfillment processes.\n"
   ]
  },
  {
   "cell_type": "code",
   "execution_count": null,
   "id": "demonstrate-use-case",
   "metadata": {},
   "outputs": [],
   "source": [
    "# Mock data for the use case\n",
    "orders = {\n",
    "    'order_1001': {'product_id': 'product_1001', 'quantity': 2, 'status': 'pending'},\n",
    "    'order_1002': {'product_id': 'product_1002', 'quantity': 4, 'status': 'pending'},\n",
    "    'order_1003': {'product_id': 'product_1002', 'quantity': 2, 'status': 'pending'},\n",
    "    'order_1004': {'product_id': 'product_1001', 'quantity': 3, 'status': 'pending'},\n",
    "    'order_1005': {'product_id': 'product_1002', 'quantity': 1, 'status': 'pending'},\n",
    "}\n",
    "\n",
    "inventory = {\n",
    "    'product_1001': {'name': 'Product A', 'stock': 10},\n",
    "    'product_1002': {'name': 'Product B', 'stock': 5},\n",
    "}\n",
    "\n",
    "# Use Hashes to store order and inventory information\n",
    "for order_id, data in orders.items():\n",
    "    r.hset(order_id, mapping=data)\n",
    "\n",
    "for product_id, data in inventory.items():\n",
    "    r.hset(product_id, mapping=data)\n",
    "\n",
    "# Lua Script to automate order fulfillment\n",
    "fulfill_order_script = '''\n",
    "local order_id = KEYS[1]\n",
    "local product_id = redis.call('HGET', order_id, 'product_id')\n",
    "local quantity = tonumber(redis.call('HGET', order_id, 'quantity'))\n",
    "local stock = tonumber(redis.call('HGET', product_id, 'stock'))\n",
    "\n",
    "if stock >= quantity then\n",
    "    redis.call('HINCRBY', product_id, 'stock', -quantity)\n",
    "    redis.call('HSET', order_id, 'status', 'fulfilled')\n",
    "    return 'Order fulfilled'\n",
    "else\n",
    "    redis.call('HSET', order_id, 'status', 'out_of_stock')\n",
    "    return 'Order out of stock'\n",
    "end\n",
    "'''\n",
    "\n",
    "# Function to execute the Lua script for each order\n",
    "def fulfill_orders():\n",
    "    for order_id in orders.keys():\n",
    "        result = r.eval(fulfill_order_script, 1, order_id)\n",
    "        print(f\"{order_id}: {result}\")\n",
    "\n",
    "# Fulfill the orders\n",
    "fulfill_orders()\n",
    "\n",
    "# Print the updated order and inventory information\n",
    "for order_id in orders.keys():\n",
    "    print(f\"{order_id}: {r.hgetall(order_id)}\")\n",
    "\n",
    "for product_id in inventory.keys():\n",
    "    print(f\"{product_id}: {r.hgetall(product_id)}\")\n"
   ]
  }
 ],
 "metadata": {
  "kernelspec": {
   "display_name": "Python 3",
   "language": "python",
   "name": "python3"
  },
  "language_info": {
   "codemirror_mode": {
    "name": "ipython",
    "version": 3
   },
   "file_extension": ".py",
   "mimetype": "text/x-python",
   "name": "python",
   "nbconvert_exporter": "python",
   "pygments_lexer": "ipython3",
   "version": "3.12.3"
  }
 },
 "nbformat": 4,
 "nbformat_minor": 5
}
