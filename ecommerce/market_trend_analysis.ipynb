{
 "cells": [
  {
   "cell_type": "code",
   "execution_count": null,
   "id": "d0858ac4",
   "metadata": {},
   "outputs": [],
   "source": [
    "import redis\n",
    "import json\n",
    "\n",
    "# Define connection variables\n",
    "host = 'localhost'\n",
    "port =  6379\n",
    "password = 'mypassword'\n",
    "\n",
    "# Connect to Redis\n",
    "r = redis.Redis(host=host, port=port, password=password, decode_responses=True)\n",
    "print('Connected to Redis')\n",
    "\n",
    "r.flushdb()"
   ]
  },
  {
   "cell_type": "markdown",
   "id": "use-case-title",
   "metadata": {},
   "source": [
    "# Market Trend Analysis\n",
    "\n",
    "## Description of the use case\n",
    "This use case involves analyzing market trends by indexing and querying time-series data and related information. By understanding market trends, businesses can make informed decisions and adapt their strategies accordingly.\n",
    "\n",
    "## Redis Data Structures Used\n",
    "- **Redisearch**: To index and query market trend data.\n",
    "- **Hashes**: To store additional information about market metrics.\n"
   ]
  },
  {
   "cell_type": "code",
   "execution_count": null,
   "id": "demonstrate-use-case",
   "metadata": {},
   "outputs": [],
   "source": [
    "# Mock data for the use case\n",
    "market_data = {\n",
    "    'metric_1001': {'name': 'Metric A', 'category': 'Sales', 'value': 100, 'timestamp': 1622505600},\n",
    "    'metric_1002': {'name': 'Metric B', 'category': 'Customer Engagement', 'value': 150, 'timestamp': 1625097600},\n",
    "    'metric_1003': {'name': 'Metric C', 'category': 'Market Share', 'value': 200, 'timestamp': 1627776000},\n",
    "}\n",
    "\n",
    "# Use Redisearch to create an index\n",
    "r.execute_command('FT.CREATE', 'marketIdx', 'ON', 'HASH', 'PREFIX', '1', 'metric_', 'SCHEMA', 'name', 'TEXT', 'category', 'TAG', 'value', 'NUMERIC', 'timestamp', 'NUMERIC')\n",
    "\n",
    "\n",
    "# Use Hashes to store metric information\n",
    "for metric_id, metric_info in market_data.items():\n",
    "    r.hset(metric_id, mapping=metric_info)\n",
    "\n",
    "# Function to query market trends\n",
    "def query_market_trends(category):\n",
    "    query = f\"@category:{{{category}}}\"\n",
    "    return r.execute_command('FT.SEARCH', 'marketIdx', query)\n",
    "\n",
    "# Query and print market trends for 'Sales' category\n",
    "sales_trends = query_market_trends('Sales')\n",
    "print('Market trends for Sales:', sales_trends)\n",
    "\n",
    "# Query and print market trends for 'Customer Engagement' category\n",
    "engagement_trends = query_market_trends('Customer Engagement')\n",
    "print('Market trends for Customer Engagement:', engagement_trends)\n",
    "\n",
    "# Query and print market trends for 'Market Share' category\n",
    "market_share_trends = query_market_trends('Market Share')\n",
    "print('Market trends for Market Share:', market_share_trends)\n",
    "\n",
    "# Print the market data for each metric\n",
    "for metric_id in market_data.keys():\n",
    "    metric_info = r.hgetall(metric_id)\n",
    "    print(f'Market data for {metric_id}: {metric_info}')\n"
   ]
  }
 ],
 "metadata": {
  "kernelspec": {
   "display_name": "Python 3",
   "language": "python",
   "name": "python3"
  },
  "language_info": {
   "codemirror_mode": {
    "name": "ipython",
    "version": 3
   },
   "file_extension": ".py",
   "mimetype": "text/x-python",
   "name": "python",
   "nbconvert_exporter": "python",
   "pygments_lexer": "ipython3",
   "version": "3.12.3"
  }
 },
 "nbformat": 4,
 "nbformat_minor": 5
}
