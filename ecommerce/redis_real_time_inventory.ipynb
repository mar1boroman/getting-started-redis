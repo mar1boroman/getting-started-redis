{
 "cells": [
  {
   "cell_type": "code",
   "execution_count": 1,
   "id": "setup-connection",
   "metadata": {},
   "outputs": [
    {
     "name": "stdout",
     "output_type": "stream",
     "text": [
      "Connected to Redis\n"
     ]
    }
   ],
   "source": [
    "import redis\n",
    "import json\n",
    "\n",
    "# Define connection variables\n",
    "host = 'localhost'\n",
    "port =  6379\n",
    "password = 'mypassword'\n",
    "\n",
    "# Connect to Redis\n",
    "r = redis.Redis(host=host, port=port, password=password, decode_responses=True)\n",
    "print('Connected to Redis')\n",
    "\n",
    "r.flushdb()"
   ]
  },
  {
   "cell_type": "markdown",
   "id": "use-case-title",
   "metadata": {},
   "source": [
    "# Real-time Inventory Management\n",
    "\n",
    "## Description of the use case\n",
    "Real-time inventory management involves tracking product quantities and availability across different locations or warehouses. This use case ensures that stock levels are updated instantly as sales and restocks happen, preventing overselling and stockouts.\n",
    "\n",
    "## Redis Data Structures Used\n",
    "- **Hashes**: To store product information and stock levels.\n",
    "- **Streams**: To record real-time updates of stock levels.\n",
    "- **Sorted Sets**: To manage and query low-stock alerts and prioritize restocking."
   ]
  },
  {
   "cell_type": "code",
   "execution_count": 8,
   "id": "demonstrate-use-case",
   "metadata": {},
   "outputs": [
    {
     "name": "stdout",
     "output_type": "stream",
     "text": [
      "Initial Stock : {'name': 'Product 1', 'stock': 100} \n",
      "Initial Stock : {'name': 'Product 2', 'stock': 200} \n",
      "Initial Stock : {'name': 'Product 3', 'stock': 150} \n",
      "Final Stock : product_1: {'name': 'Product 1', 'stock': '90'}\n",
      "Final Stock : product_2: {'name': 'Product 2', 'stock': '220'}\n",
      "Final Stock : product_3: {'name': 'Product 3', 'stock': '30'}\n",
      "Low-stock alerts:\n",
      "Product 3 has only 30.0 units left\n"
     ]
    }
   ],
   "source": [
    "if r.exists(\"product_1\"): r.delete(\"product_1\")\n",
    "if r.exists(\"product_2\"): r.delete(\"product_2\")\n",
    "if r.exists(\"product_3\"): r.delete(\"product_3\")\n",
    "if r.exists(\"stock_updates\"): r.delete(\"stock_updates\")\n",
    "if r.exists(\"low_stock_alerts\"): r.delete(\"low_stock_alerts\")\n",
    "\n",
    "# Mock data for the use case\n",
    "mock_data = {\n",
    "    'product_1': {'name': 'Product 1', 'stock': 100},\n",
    "    'product_2': {'name': 'Product 2', 'stock': 200},\n",
    "    'product_3': {'name': 'Product 3', 'stock': 150},\n",
    "}\n",
    "\n",
    "# Use Hashes to store product information and stock levels\n",
    "for product_id, product_info in mock_data.items():\n",
    "    r.hset(product_id, mapping=product_info)\n",
    "    print(f\"Initial Stock : {product_info} \")\n",
    "\n",
    "# Use Streams to record real-time updates of stock levels\n",
    "r.xadd('stock_updates', {'product_id': 'product_1', 'stock_change': -10})\n",
    "r.xadd('stock_updates', {'product_id': 'product_2', 'stock_change': 20})\n",
    "r.xadd('stock_updates', {'product_id': 'product_3', 'stock_change': -120})\n",
    "\n",
    "# Update stock levels based on stream entries\n",
    "stream_entries = r.xrange('stock_updates')\n",
    "for entry in stream_entries:\n",
    "    product_id = entry[1]['product_id']\n",
    "    stock_change = int(entry[1]['stock_change'])\n",
    "    current_stock = int(r.hget(product_id, 'stock'))\n",
    "    new_stock = current_stock + stock_change\n",
    "    r.hset(product_id, 'stock', new_stock)\n",
    "\n",
    "# Use Sorted Sets to manage low-stock alerts\n",
    "for product_id in mock_data.keys():\n",
    "    stock_level = int(r.hget(product_id, 'stock'))\n",
    "    if stock_level < 50:\n",
    "        r.zadd('low_stock_alerts', {product_id: stock_level})\n",
    "\n",
    "# Print the updated stock levels\n",
    "for product_id in mock_data.keys():\n",
    "    print(f\"Final Stock : {product_id}: {r.hgetall(product_id)}\")\n",
    "\n",
    "# Print low-stock alerts\n",
    "low_stock_alerts = r.zrange('low_stock_alerts', 0, -1, withscores=True)\n",
    "print('Low-stock alerts:')\n",
    "for product_id, qty in low_stock_alerts:\n",
    "    print(f\"{r.hget(product_id, 'name')} has only {qty} units left\")"
   ]
  }
 ],
 "metadata": {
  "kernelspec": {
   "display_name": "Python 3",
   "language": "python",
   "name": "python3"
  },
  "language_info": {
   "codemirror_mode": {
    "name": "ipython",
    "version": 3
   },
   "file_extension": ".py",
   "mimetype": "text/x-python",
   "name": "python",
   "nbconvert_exporter": "python",
   "pygments_lexer": "ipython3",
   "version": "3.12.3"
  }
 },
 "nbformat": 4,
 "nbformat_minor": 5
}
