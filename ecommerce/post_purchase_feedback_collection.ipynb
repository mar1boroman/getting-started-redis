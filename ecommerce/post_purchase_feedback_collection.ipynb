{
 "cells": [
  {
   "cell_type": "code",
   "execution_count": 1,
   "id": "94871949",
   "metadata": {},
   "outputs": [
    {
     "name": "stdout",
     "output_type": "stream",
     "text": [
      "Connected to Redis\n"
     ]
    },
    {
     "data": {
      "text/plain": [
       "True"
      ]
     },
     "execution_count": 1,
     "metadata": {},
     "output_type": "execute_result"
    }
   ],
   "source": [
    "import redis\n",
    "import json\n",
    "\n",
    "# Define connection variables\n",
    "host = 'redis-13857.c14.us-east-1-2.ec2.redns.redis-cloud.com'\n",
    "port = 13857\n",
    "password = 'okNaqK7r5dKE6stSis0FlUuiDlhH2t7M'\n",
    "\n",
    "# Connect to Redis\n",
    "r = redis.Redis(host=host, port=port, password=password, decode_responses=True)\n",
    "print('Connected to Redis')\n",
    "\n",
    "r.flushdb()"
   ]
  },
  {
   "cell_type": "markdown",
   "id": "use-case-title",
   "metadata": {},
   "source": [
    "# Post-purchase Feedback Collection\n",
    "\n",
    "## Description of the use case\n",
    "This use case involves collecting feedback from customers after a purchase to gain insights into their satisfaction and areas for improvement. The feedback can be used to enhance products and services.\n",
    "\n",
    "## Redis Data Structures Used\n",
    "- **Hashes**: To store feedback information.\n",
    "- **Streams**: To capture and process real-time feedback submissions.\n",
    "- **Sorted Sets**: To rank feedback based on ratings or urgency."
   ]
  },
  {
   "cell_type": "code",
   "execution_count": 2,
   "id": "demonstrate-use-case",
   "metadata": {},
   "outputs": [
    {
     "name": "stdout",
     "output_type": "stream",
     "text": [
      "Processed Feedback:\n",
      "No feedback recieved for feedback id : feedback_1003\n",
      "feedback_1001: {'order_id': 'order_1001', 'customer_id': 'cust_1', 'rating': '4', 'comment': 'Great product!'}\n",
      "feedback_1002: {'order_id': 'order_1002', 'customer_id': 'cust_2', 'rating': '5', 'comment': 'Excellent service!'}\n",
      "feedback_1003: {'order_id': 'order_1003', 'customer_id': 'cust_3'}\n",
      "Ranked Feedback:\n",
      "('feedback_1002', 5.0)\n",
      "('feedback_1001', 4.0)\n",
      "Top feedback :\n",
      "{'order_id': 'order_1002', 'customer_id': 'cust_2', 'rating': '5', 'comment': 'Excellent service!'}\n"
     ]
    }
   ],
   "source": [
    "# Mock data for the use case\n",
    "mock_data = {\n",
    "    'feedback_1001': {'order_id': 'order_1001', 'customer_id': 'cust_1'},\n",
    "    'feedback_1002': {'order_id': 'order_1002', 'customer_id': 'cust_2'},\n",
    "    'feedback_1003': {'order_id': 'order_1003', 'customer_id': 'cust_3'},\n",
    "}\n",
    "\n",
    "# Use Hashes to store feedback information\n",
    "for feedback_id, feedback_info in mock_data.items():\n",
    "    r.hset(feedback_id, mapping=feedback_info)\n",
    "\n",
    "# Use Streams to capture real-time feedback submissions\n",
    "r.xadd('feedback_stream', {'feedback_id': 'feedback_1001', 'rating': 4, 'comment': 'Great product!'})\n",
    "r.xadd('feedback_stream', {'feedback_id': 'feedback_1002', 'rating': 5, 'comment': 'Excellent service!'})\n",
    "\n",
    "# Function to process feedback submissions\n",
    "def process_feedback_submissions():\n",
    "    stream_entries = r.xrange('feedback_stream')\n",
    "    for ts, entry in stream_entries:\n",
    "        feedback_id = entry['feedback_id']\n",
    "        rating = int(entry['rating'])\n",
    "        comment = entry['comment']\n",
    "        r.hset(feedback_id, 'rating', rating)\n",
    "        r.hset(feedback_id, 'comment', comment)\n",
    "\n",
    "# Process the feedback submissions\n",
    "print(f\"Processed Feedback:\")\n",
    "process_feedback_submissions()\n",
    "\n",
    "# Use Sorted Sets to rank feedback based on ratings\n",
    "for feedback_id in mock_data.keys():\n",
    "    if r.hget(feedback_id, 'rating'):\n",
    "        rating = int(r.hget(feedback_id, 'rating'))\n",
    "        r.zadd('feedback_ranking', {feedback_id: rating})\n",
    "    else:\n",
    "        print(f\"No feedback recieved for feedback id : {feedback_id}\")\n",
    "\n",
    "# Print the collected feedback information\n",
    "for feedback_id in mock_data.keys():\n",
    "    print(f\"{feedback_id}: {r.hgetall(feedback_id)}\")\n",
    "\n",
    "# Print the ranked feedback\n",
    "ranked_feedback = r.zrange('feedback_ranking', 0, -1, withscores=True, desc=True)\n",
    "print('Ranked Feedback:')\n",
    "for feedback in ranked_feedback:\n",
    "    print(feedback)\n",
    "    \n",
    "print(f\"Top feedback :\")\n",
    "f_id, _ = r.zrevrange('feedback_ranking', 0, 0 , withscores=True)[0]\n",
    "o_id = r.hgetall(f_id)\n",
    "print(o_id)"
   ]
  }
 ],
 "metadata": {
  "kernelspec": {
   "display_name": "Python 3",
   "language": "python",
   "name": "python3"
  },
  "language_info": {
   "codemirror_mode": {
    "name": "ipython",
    "version": 3
   },
   "file_extension": ".py",
   "mimetype": "text/x-python",
   "name": "python",
   "nbconvert_exporter": "python",
   "pygments_lexer": "ipython3",
   "version": "3.12.3"
  }
 },
 "nbformat": 4,
 "nbformat_minor": 5
}
