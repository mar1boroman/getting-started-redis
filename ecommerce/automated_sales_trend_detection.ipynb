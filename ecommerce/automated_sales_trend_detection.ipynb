{
 "cells": [
  {
   "cell_type": "code",
   "execution_count": null,
   "id": "81f8c623",
   "metadata": {},
   "outputs": [],
   "source": [
    "import redis\n",
    "import json\n",
    "\n",
    "# Define connection variables\n",
    "host = 'localhost'\n",
    "port =  6379\n",
    "password = 'mypassword'\n",
    "\n",
    "# Connect to Redis\n",
    "r = redis.Redis(host=host, port=port, password=password, decode_responses=True)\n",
    "print('Connected to Redis')\n",
    "\n",
    "r.flushdb()"
   ]
  },
  {
   "cell_type": "markdown",
   "id": "use-case-title",
   "metadata": {},
   "source": [
    "# Automated Trend Detection in Sales Data\n",
    "\n",
    "## Description of the use case\n",
    "This use case involves detecting trends in sales data using Redis T-Digest. By analyzing the distribution of sales data, businesses can identify patterns and make data-driven decisions.\n",
    "\n",
    "## Redis Data Structures Used\n",
    "- **T-Digest**: To detect trends in sales data.\n",
    "- **Hashes**: To store sales data for each product.\n"
   ]
  },
  {
   "cell_type": "code",
   "execution_count": null,
   "id": "demonstrate-use-case",
   "metadata": {},
   "outputs": [],
   "source": [
    "# Mock data for the use case\n",
    "sales_data = {\n",
    "    'product_1001': [5000, 5200, 5300, 5400, 5600],\n",
    "    'product_1002': [7500, 7600, 7700, 7800, 7900],\n",
    "    'product_1003': [3000, 3200, 3400, 3600, 3800],\n",
    "    'product_1004': [2000, 2200, 2400, 2600, 2800]\n",
    "}\n",
    "\n",
    "\n",
    "\n",
    "# Use Hashes to store sales data for each product\n",
    "for product_id, data in sales_data.items():\n",
    "    r.hset(product_id, mapping={'sales_data': ','.join(map(str, data))})\n",
    "\n",
    "# Use T-Digest to detect trends in sales data\n",
    "for product_id, data in sales_data.items():\n",
    "    r.tdigest().create(key=f'tdigest:{product_id}')\n",
    "    for value in data:\n",
    "        r.execute_command('TDIGEST.ADD', f'tdigest:{product_id}', value)\n",
    "\n",
    "# Function to get percentiles from T-Digest\n",
    "def get_percentiles(product_id, percentiles):\n",
    "    return r.execute_command('TDIGEST.QUANTILE', f'tdigest:{product_id}', *percentiles)\n",
    "\n",
    "# Detect trends in sales data for each product\n",
    "percentiles_to_check = [0.25, 0.5, 0.75, 0.99]  # 25th, 50th, 75th and 99th percentiles\n",
    "for product_id in sales_data.keys():\n",
    "    percentiles = get_percentiles(product_id, percentiles_to_check)\n",
    "    print(f'Trend for {product_id}:')\n",
    "    for p, value in zip(percentiles_to_check, percentiles):\n",
    "        print(f' > {int(p*100)}th percentile: {value}')\n",
    "\n",
    "# Print the sales data for each product\n",
    "for product_id in sales_data.keys():\n",
    "    print(f\"{product_id}: {r.hget(product_id, 'sales_data')}\")\n"
   ]
  }
 ],
 "metadata": {
  "kernelspec": {
   "display_name": "Python 3",
   "language": "python",
   "name": "python3"
  },
  "language_info": {
   "codemirror_mode": {
    "name": "ipython",
    "version": 3
   },
   "file_extension": ".py",
   "mimetype": "text/x-python",
   "name": "python",
   "nbconvert_exporter": "python",
   "pygments_lexer": "ipython3",
   "version": "3.12.3"
  }
 },
 "nbformat": 4,
 "nbformat_minor": 5
}
