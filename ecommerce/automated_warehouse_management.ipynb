{
 "cells": [
  {
   "cell_type": "code",
   "execution_count": null,
   "id": "288ff019",
   "metadata": {},
   "outputs": [],
   "source": [
    "import redis\n",
    "import json\n",
    "\n",
    "# Define connection variables\n",
    "host = 'redis-13857.c14.us-east-1-2.ec2.redns.redis-cloud.com'\n",
    "port = 13857\n",
    "password = 'okNaqK7r5dKE6stSis0FlUuiDlhH2t7M'\n",
    "\n",
    "# Connect to Redis\n",
    "r = redis.Redis(host=host, port=port, password=password, decode_responses=True)\n",
    "print('Connected to Redis')\n",
    "\n",
    "r.flushdb()"
   ]
  },
  {
   "cell_type": "markdown",
   "id": "use-case-title",
   "metadata": {},
   "source": [
    "# Automated Warehouse Management\n",
    "\n",
    "## Description of the use case\n",
    "This use case involves automating warehouse management by tracking inventory levels, managing restocking processes, and optimizing storage locations. By using real-time data, businesses can ensure efficient warehouse operations.\n",
    "\n",
    "## Redis Data Structures Used\n",
    "- **Hashes**: To store inventory and product information.\n",
    "- **Streams**: To capture and process real-time inventory updates.\n",
    "- **Sorted Sets**: To prioritize restocking tasks based on inventory levels.\n"
   ]
  },
  {
   "cell_type": "code",
   "execution_count": null,
   "id": "demonstrate-use-case",
   "metadata": {},
   "outputs": [],
   "source": [
    "# Mock data for the use case\n",
    "inventory_data = {\n",
    "    'product_1001': {'name': 'Product A', 'quantity': 50},\n",
    "    'product_1002': {'name': 'Product B', 'quantity': 20},\n",
    "    'product_1003': {'name': 'Product C', 'quantity': 100},\n",
    "    'product_1004': {'name': 'Product D', 'quantity': 10}\n",
    "}\n",
    "\n",
    "# Use Hashes to store inventory and product information\n",
    "for product_id, data in inventory_data.items():\n",
    "    r.hset(product_id, mapping=data)\n",
    "    \n",
    "print(\"Before updates:\")\n",
    "for product_id in inventory_data.keys():\n",
    "    print(f\"{product_id}: {r.hgetall(product_id)}\")\n",
    "\n",
    "# Use Streams to capture real-time inventory updates\n",
    "r.xadd('inventory_updates', {'product_id': 'product_1001', 'quantity': -5})\n",
    "r.xadd('inventory_updates', {'product_id': 'product_1002', 'quantity': -10})\n",
    "\n",
    "# Function to process inventory updates and adjust stock levels\n",
    "def process_inventory_updates():\n",
    "    stream_entries = r.xrange('inventory_updates')\n",
    "    for entry in stream_entries:\n",
    "        product_id = entry[1]['product_id']\n",
    "        quantity_change = int(entry[1]['quantity'])\n",
    "        current_quantity = int(r.hget(product_id, 'quantity'))\n",
    "        new_quantity = current_quantity + quantity_change\n",
    "        r.hset(product_id, 'quantity', new_quantity)\n",
    "        if new_quantity < 20:  # Example threshold for restocking\n",
    "            r.zadd('restocking_priority', {product_id: new_quantity})\n",
    "\n",
    "# Process the inventory updates\n",
    "process_inventory_updates()\n",
    "\n",
    "# Print the updated inventory data\n",
    "print(\"After updates:\")\n",
    "for product_id in inventory_data.keys():\n",
    "    print(f\"{product_id}: {r.hgetall(product_id)}\")\n",
    "\n",
    "# Print the restocking priorities\n",
    "restocking_priorities = r.zrange('restocking_priority', 0, -1, withscores=True)\n",
    "print('Restocking Priorities:')\n",
    "for product in restocking_priorities:\n",
    "    print(product)\n"
   ]
  }
 ],
 "metadata": {
  "kernelspec": {
   "display_name": "Python 3",
   "language": "python",
   "name": "python3"
  },
  "language_info": {
   "codemirror_mode": {
    "name": "ipython",
    "version": 3
   },
   "file_extension": ".py",
   "mimetype": "text/x-python",
   "name": "python",
   "nbconvert_exporter": "python",
   "pygments_lexer": "ipython3",
   "version": "3.12.3"
  }
 },
 "nbformat": 4,
 "nbformat_minor": 5
}
