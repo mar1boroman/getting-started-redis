{
 "cells": [
  {
   "cell_type": "code",
   "execution_count": null,
   "id": "d1bfd411",
   "metadata": {},
   "outputs": [],
   "source": [
    "import redis\n",
    "import json\n",
    "\n",
    "# Define connection variables\n",
    "host = 'redis-13857.c14.us-east-1-2.ec2.redns.redis-cloud.com'\n",
    "port = 13857\n",
    "password = 'okNaqK7r5dKE6stSis0FlUuiDlhH2t7M'\n",
    "\n",
    "# Connect to Redis\n",
    "r = redis.Redis(host=host, port=port, password=password, decode_responses=True)\n",
    "print('Connected to Redis')\n",
    "\n",
    "r.flushdb()"
   ]
  },
  {
   "cell_type": "markdown",
   "id": "use-case-title",
   "metadata": {},
   "source": [
    "# Real-time Product Quality Monitoring\n",
    "\n",
    "## Description of the use case\n",
    "This use case involves monitoring real-time product quality metrics using Redis Count-Min Sketch. By tracking quality-related events, businesses can quickly identify and address quality issues.\n",
    "\n",
    "## Redis Data Structures Used\n",
    "- **Count-Min Sketch**: To monitor real-time product quality metrics.\n",
    "- **Hashes**: To store additional information about products and quality metrics.\n"
   ]
  },
  {
   "cell_type": "code",
   "execution_count": null,
   "id": "demonstrate-use-case",
   "metadata": {},
   "outputs": [],
   "source": [
    "# Mock data for the use case\n",
    "quality_data = {\n",
    "    'product_1001': {'name': 'Product A', 'defects': 0},\n",
    "    'product_1002': {'name': 'Product B', 'defects': 0},\n",
    "    'product_1003': {'name': 'Product C', 'defects': 0},\n",
    "    'product_1004': {'name': 'Product D', 'defects': 0}\n",
    "}\n",
    "\n",
    "# Use Hashes to store product and quality information\n",
    "for product_id, data in quality_data.items():\n",
    "    r.hset(product_id, mapping=data)\n",
    "\n",
    "# Initialize Count-Min Sketch for tracking defects\n",
    "r.cms().initbydim(key='quality_metrics', width=2000, depth=5)\n",
    "\n",
    "# Function to update quality metrics\n",
    "def update_quality_metrics(product_id, defects):\n",
    "    r.cms().incrby('quality_metrics', items=product_id, increments=defects)\n",
    "    current_defects = r.hincrby(product_id, 'defects', defects)\n",
    "    return current_defects\n",
    "\n",
    "# Update quality metrics for products\n",
    "update_quality_metrics('product_1001', 5)\n",
    "update_quality_metrics('product_1002', 3)\n",
    "update_quality_metrics('product_1003', 8)\n",
    "update_quality_metrics('product_1004', 2)\n",
    "\n",
    "# Function to get quality metrics\n",
    "def get_quality_metrics(product_id):\n",
    "    return r.cms().query('quality_metrics', product_id)\n",
    "\n",
    "# Get and print quality metrics for each product\n",
    "for product_id in quality_data.keys():\n",
    "    defects = get_quality_metrics(product_id)\n",
    "    print(f'Defects for {product_id}: {defects}')\n",
    "\n",
    "# Print the product quality data\n",
    "for product_id in quality_data.keys():\n",
    "    print(f\"{product_id}: {r.hgetall(product_id)}\")\n"
   ]
  }
 ],
 "metadata": {
  "kernelspec": {
   "display_name": "Python 3",
   "language": "python",
   "name": "python3"
  },
  "language_info": {
   "codemirror_mode": {
    "name": "ipython",
    "version": 3
   },
   "file_extension": ".py",
   "mimetype": "text/x-python",
   "name": "python",
   "nbconvert_exporter": "python",
   "pygments_lexer": "ipython3",
   "version": "3.12.3"
  }
 },
 "nbformat": 4,
 "nbformat_minor": 5
}
