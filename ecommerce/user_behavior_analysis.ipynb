{
 "cells": [
  {
   "cell_type": "code",
   "execution_count": 1,
   "id": "7db071ce",
   "metadata": {},
   "outputs": [
    {
     "name": "stdout",
     "output_type": "stream",
     "text": [
      "Connected to Redis\n"
     ]
    },
    {
     "data": {
      "text/plain": [
       "True"
      ]
     },
     "execution_count": 1,
     "metadata": {},
     "output_type": "execute_result"
    }
   ],
   "source": [
    "import redis\n",
    "import json\n",
    "\n",
    "# Define connection variables\n",
    "host = 'redis-13857.c14.us-east-1-2.ec2.redns.redis-cloud.com'\n",
    "port = 13857\n",
    "password = 'okNaqK7r5dKE6stSis0FlUuiDlhH2t7M'\n",
    "\n",
    "# Connect to Redis\n",
    "r = redis.Redis(host=host, port=port, password=password, decode_responses=True)\n",
    "print('Connected to Redis')\n",
    "\n",
    "r.flushdb()"
   ]
  },
  {
   "cell_type": "markdown",
   "id": "use-case-title",
   "metadata": {},
   "source": [
    "# User Behavior Analysis for New Features\n",
    "\n",
    "## Description of the use case\n",
    "This use case involves analyzing user behavior to understand how new features are being used. By tracking interactions with new features, businesses can make data-driven decisions on feature improvements and user experience enhancements.\n",
    "\n",
    "## Redis Data Structures Used\n",
    "- **Hashes**: To store user interaction data.\n",
    "- **Streams**: To capture and process real-time user interactions.\n",
    "- **Sorted Sets**: To rank features based on user engagement.\n"
   ]
  },
  {
   "cell_type": "code",
   "execution_count": 2,
   "id": "demonstrate-use-case",
   "metadata": {},
   "outputs": [
    {
     "name": "stdout",
     "output_type": "stream",
     "text": [
      "user_1001: {'feature': 'feature_A', 'interaction': 'click'}\n",
      "user_1002: {'feature': 'feature_B', 'interaction': 'view'}\n",
      "user_1003: {'feature': 'feature_A', 'interaction': 'click'}\n",
      "user_1004: {'feature': 'feature_C', 'interaction': 'view'}\n",
      "user_1005: {'feature': 'feature_B', 'interaction': 'click'}\n",
      "Feature Engagement Scores:\n",
      "('feature_A', 2.0)\n",
      "('feature_B', 1.0)\n"
     ]
    }
   ],
   "source": [
    "# Mock data for the use case\n",
    "user_data = {\n",
    "    'user_1001': {'feature': 'feature_A', 'interaction': 'click'},\n",
    "    'user_1002': {'feature': 'feature_B', 'interaction': 'view'},\n",
    "    'user_1003': {'feature': 'feature_A', 'interaction': 'click'},\n",
    "    'user_1004': {'feature': 'feature_C', 'interaction': 'view'},\n",
    "    'user_1005': {'feature': 'feature_B', 'interaction': 'click'},\n",
    "}\n",
    "\n",
    "# Use Hashes to store user interaction data\n",
    "for user_id, interaction_info in user_data.items():\n",
    "    r.hset(user_id, mapping=interaction_info)\n",
    "\n",
    "# Use Streams to capture real-time user interactions\n",
    "r.xadd('user_interactions', {'user_id': 'user_1001', 'feature': 'feature_A', 'interaction': 'click'})\n",
    "r.xadd('user_interactions', {'user_id': 'user_1002', 'feature': 'feature_B', 'interaction': 'view'})\n",
    "\n",
    "# Function to process user interactions and update engagement scores\n",
    "def process_user_interactions():\n",
    "    stream_entries = r.xrange('user_interactions')\n",
    "    for entry in stream_entries:\n",
    "        feature = entry[1]['feature']\n",
    "        interaction = entry[1]['interaction']\n",
    "        score = 1 if interaction == 'view' else 2  # Example scoring algorithm\n",
    "        r.zincrby('feature_engagement', score, feature)\n",
    "\n",
    "# Process the user interactions\n",
    "process_user_interactions()\n",
    "\n",
    "# Print the user interaction data\n",
    "for user_id in user_data.keys():\n",
    "    print(f\"{user_id}: {r.hgetall(user_id)}\")\n",
    "\n",
    "# Print the feature engagement scores\n",
    "feature_engagement = r.zrange('feature_engagement', 0, -1, withscores=True, desc=True)\n",
    "print('Feature Engagement Scores:')\n",
    "for feature in feature_engagement:\n",
    "    print(feature)"
   ]
  }
 ],
 "metadata": {
  "kernelspec": {
   "display_name": "Python 3",
   "language": "python",
   "name": "python3"
  },
  "language_info": {
   "codemirror_mode": {
    "name": "ipython",
    "version": 3
   },
   "file_extension": ".py",
   "mimetype": "text/x-python",
   "name": "python",
   "nbconvert_exporter": "python",
   "pygments_lexer": "ipython3",
   "version": "3.12.3"
  }
 },
 "nbformat": 4,
 "nbformat_minor": 5
}
