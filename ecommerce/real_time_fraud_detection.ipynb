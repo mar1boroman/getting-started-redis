{
 "cells": [
  {
   "cell_type": "code",
   "execution_count": null,
   "id": "88ddc42b",
   "metadata": {},
   "outputs": [],
   "source": [
    "import redis\n",
    "import json\n",
    "\n",
    "# Define connection variables\n",
    "host = 'redis-13857.c14.us-east-1-2.ec2.redns.redis-cloud.com'\n",
    "port = 13857\n",
    "password = 'okNaqK7r5dKE6stSis0FlUuiDlhH2t7M'\n",
    "\n",
    "# Connect to Redis\n",
    "r = redis.Redis(host=host, port=port, password=password, decode_responses=True)\n",
    "print('Connected to Redis')\n",
    "\n",
    "r.flushdb()"
   ]
  },
  {
   "cell_type": "markdown",
   "id": "use-case-title",
   "metadata": {},
   "source": [
    "# Real-time Fraud Detection\n",
    "\n",
    "## Description of the use case\n",
    "This use case involves detecting fraudulent transactions in real-time by using Redis Bloom Filters and Streams. By analyzing transaction data, businesses can identify and prevent fraud quickly.\n",
    "\n",
    "## Redis Data Structures Used\n",
    "- **Bloom Filters**: To check for known fraudulent entities.\n",
    "- **Streams**: To capture and process real-time transaction data.\n",
    "- **Hashes**: To store transaction details.\n"
   ]
  },
  {
   "cell_type": "code",
   "execution_count": null,
   "id": "demonstrate-use-case",
   "metadata": {},
   "outputs": [],
   "source": [
    "# Mock data for the use case\n",
    "transactions = {\n",
    "    'tx_1001': {'user_id': 'user_1', 'amount': 500, 'status': 'pending'},\n",
    "    'tx_1002': {'user_id': 'user_2', 'amount': 3000, 'status': 'pending'},\n",
    "    'tx_1003': {'user_id': 'user_3', 'amount': 700, 'status': 'pending'}\n",
    "}\n",
    "\n",
    "# Use Hashes to store transaction details\n",
    "for tx_id, tx_info in transactions.items():\n",
    "    r.hset(tx_id, mapping=tx_info)\n",
    "\n",
    "# Initialize Bloom Filter for known fraudulent users\n",
    "r.execute_command('BF.RESERVE', 'fraudulent_users', 0.01, 1000)\n",
    "fraudulent_users = ['user_2', 'user_4', 'user_6']\n",
    "for user in fraudulent_users:\n",
    "    r.bf().add('fraudulent_users', user)\n",
    "\n",
    "# Use Streams to capture real-time transaction data\n",
    "r.xadd('transactions', {'tx_id': 'tx_1001', 'user_id': 'user_1', 'amount': 500})\n",
    "r.xadd('transactions', {'tx_id': 'tx_1002', 'user_id': 'user_2', 'amount': 3000})\n",
    "r.xadd('transactions', {'tx_id': 'tx_1003', 'user_id': 'user_3', 'amount': 3000})\n",
    "\n",
    "# Function to process transactions and detect fraud\n",
    "def process_transactions():\n",
    "    stream_entries = r.xrange('transactions')\n",
    "    for entry in stream_entries:\n",
    "        tx_id = entry[1]['tx_id']\n",
    "        user_id = entry[1]['user_id']\n",
    "        amount = int(entry[1]['amount'])\n",
    "        if not r.bf().exists('fraudulent_users', user_id):\n",
    "            r.hset(tx_id, 'status', 'approved')\n",
    "            print(f\"Transaction {tx_id} is approved.\")\n",
    "        else:\n",
    "            r.hset(tx_id, 'status', 'fraudulent')\n",
    "            print(f\"Transaction {tx_id} is marked as fraudulent.\") \n",
    "\n",
    "# Process the transactions\n",
    "process_transactions()\n",
    "\n",
    "# Print the updated transaction details\n",
    "for tx_id in transactions.keys():\n",
    "    print(f\"{tx_id}: {r.hgetall(tx_id)}\")\n"
   ]
  }
 ],
 "metadata": {
  "kernelspec": {
   "display_name": "Python 3",
   "language": "python",
   "name": "python3"
  },
  "language_info": {
   "codemirror_mode": {
    "name": "ipython",
    "version": 3
   },
   "file_extension": ".py",
   "mimetype": "text/x-python",
   "name": "python",
   "nbconvert_exporter": "python",
   "pygments_lexer": "ipython3",
   "version": "3.12.3"
  }
 },
 "nbformat": 4,
 "nbformat_minor": 5
}
