{
  "cells": [
    {
      "cell_type": "code",
      "execution_count": 1,
      "metadata": {},
      "outputs": [
        {
          "name": "stdout",
          "output_type": "stream",
          "text": [
            "Connected to Redis\n"
          ]
        }
      ],
      "source": [
        "import redis\n",
        "import json\n",
        "\n",
        "# Define connection variables\n",
        "host = 'localhost'\n",
        "port =  6379\n",
        "password = 'mypassword'\n",
        "\n",
        "# Connect to Redis\n",
        "client = redis.Redis(host=host, port=port, password=password, decode_responses=True)\n",
        "print('Connected to Redis')\n",
        "\n",
        "client.flushdb()"
      ]
    },
    {
      "cell_type": "markdown",
      "metadata": {},
      "source": [
        "# Personalized Product Recommendations\n",
        "## Description\n",
        "This use case demonstrates how to provide personalized product recommendations to users based on their past interactions and preferences.\n",
        "\n",
        "## Redis Data Structures Used\n",
        "- JSON\n",
        "- Search"
      ]
    },
    {
      "cell_type": "code",
      "execution_count": 18,
      "metadata": {},
      "outputs": [
        {
          "name": "stdout",
          "output_type": "stream",
          "text": [
            "User (1002) Category Preferences : ['fashion', 'beauty']\n",
            "User (1002) Recent Views : ['product:3001', 'product:3002']\n",
            "Recommendations for user 1002:\n",
            "{'category': 'fashion', 'name': 'Burberry Scarft', 'price': 115}\n",
            "{'category': 'beauty', 'name': 'Armani Perfume', 'price': 85}\n"
          ]
        }
      ],
      "source": [
        "# Mock data for personalized product recommendations\n",
        "mock_data = {\n",
        "    'user:1001': {'preferences': ['electronics', 'books'], 'recent_views': ['product:2001', 'product:2002']},\n",
        "    'user:1002': {'preferences': ['fashion', 'beauty'], 'recent_views': ['product:3001', 'product:3002']},\n",
        "    'product:2001': {'category': 'electronics', 'name': 'Google Pixel', 'price': 499},\n",
        "    'product:2002': {'category': 'books', 'name': 'Learn Python Programming', 'price': 25},\n",
        "    'product:2003': {'category': 'electronics', 'name': 'iPhone', 'price': 799},\n",
        "    'product:2004': {'category': 'books', 'name': 'Redis Deep Dive', 'price': 25},\n",
        "    'product:3001': {'category': 'fashion', 'name': 'Zara Tshirt', 'price': 15},\n",
        "    'product:3002': {'category': 'beauty', 'name': 'Dior Perfume', 'price': 185},\n",
        "    'product:3003': {'category': 'fashion', 'name': 'Burberry Scarf', 'price': 115},\n",
        "    'product:3004': {'category': 'beauty', 'name': 'Armani Perfume', 'price': 85}\n",
        "}\n",
        "\n",
        "# Ingest mock data into Redis\n",
        "for key, value in mock_data.items():\n",
        "    client.json().set(key, '$', json.dumps(value))\n",
        "\n",
        "# Function to get personalized recommendations\n",
        "def get_personalized_recommendations(user_id):\n",
        "    user_data = json.loads(client.json().get(f'user:{user_id}', '$')[0])\n",
        "    preferences = user_data['preferences']\n",
        "    print(f\"User ({user_id}) Category Preferences : {preferences}\")\n",
        "    recent_views = user_data['recent_views']\n",
        "    print(f\"User ({user_id}) Recent Views : {recent_views}\")\n",
        "    recommendations = []\n",
        "    for pref in preferences:\n",
        "        for key in client.scan_iter(match='product:*'):\n",
        "            product = json.loads(client.json().get(key, '$')[0])\n",
        "            if product['category'] == pref and key not in recent_views:\n",
        "                recommendations.append(product)\n",
        "    return recommendations\n",
        "\n",
        "# Get recommendations for a user\n",
        "user_id = 1002\n",
        "recommendations = get_personalized_recommendations(user_id)\n",
        "print(f'Recommendations for user {user_id}:')\n",
        "for x in recommendations:print(x)"
      ]
    },
    {
      "cell_type": "markdown",
      "metadata": {},
      "source": [
        "## How do you integrate Redisearch and Vector Search into this system ?"
      ]
    },
    {
      "cell_type": "markdown",
      "metadata": {},
      "source": []
    }
  ],
  "metadata": {
    "kernelspec": {
      "display_name": "Python 3",
      "language": "python",
      "name": "python3"
    },
    "language_info": {
      "codemirror_mode": {
        "name": "ipython",
        "version": 3
      },
      "file_extension": ".py",
      "mimetype": "text/x-python",
      "name": "python",
      "nbconvert_exporter": "python",
      "pygments_lexer": "ipython3",
      "version": "3.12.3"
    }
  },
  "nbformat": 4,
  "nbformat_minor": 4
}
